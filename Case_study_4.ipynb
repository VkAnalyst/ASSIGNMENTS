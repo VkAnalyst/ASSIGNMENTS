{
 "cells": [
  {
   "cell_type": "markdown",
   "id": "08a392a2",
   "metadata": {},
   "source": [
    "## Case study on: Testing of Hypothesis"
   ]
  },
  {
   "cell_type": "markdown",
   "id": "e384158d",
   "metadata": {},
   "source": [
    "### Objectives:\n",
    "A company started to invest in digital marketing as a new way of their product promotions.For that they collected data and decided to carry out a study on it.\n",
    "- The company wishes to clarify whether there is any `increase in sales` after stepping into digital marketing.\n",
    "- The company needs to check whether there is any dependency between the features **Region** and **Manager**.\n",
    "\n",
    "Help the company to carry out their study with the help of data provided.\n"
   ]
  },
  {
   "cell_type": "markdown",
   "id": "d2857d03",
   "metadata": {},
   "source": [
    "### Importing relevant Libraries"
   ]
  },
  {
   "cell_type": "code",
   "execution_count": 1,
   "id": "64472230",
   "metadata": {},
   "outputs": [],
   "source": [
    "import pandas as pd\n",
    "import numpy as np\n",
    "import matplotlib.pyplot as plt\n",
    "import seaborn as sns\n",
    "from scipy import stats"
   ]
  },
  {
   "cell_type": "markdown",
   "id": "fe96eb1a",
   "metadata": {},
   "source": [
    "### Reading the Sales_add dataset"
   ]
  },
  {
   "cell_type": "code",
   "execution_count": 2,
   "id": "1a39c4be",
   "metadata": {},
   "outputs": [
    {
     "data": {
      "text/html": [
       "<div>\n",
       "<style scoped>\n",
       "    .dataframe tbody tr th:only-of-type {\n",
       "        vertical-align: middle;\n",
       "    }\n",
       "\n",
       "    .dataframe tbody tr th {\n",
       "        vertical-align: top;\n",
       "    }\n",
       "\n",
       "    .dataframe thead th {\n",
       "        text-align: right;\n",
       "    }\n",
       "</style>\n",
       "<table border=\"1\" class=\"dataframe\">\n",
       "  <thead>\n",
       "    <tr style=\"text-align: right;\">\n",
       "      <th></th>\n",
       "      <th>Month</th>\n",
       "      <th>Region</th>\n",
       "      <th>Manager</th>\n",
       "      <th>Sales_before_digital_add(in $)</th>\n",
       "      <th>Sales_After_digital_add(in $)</th>\n",
       "    </tr>\n",
       "  </thead>\n",
       "  <tbody>\n",
       "    <tr>\n",
       "      <th>0</th>\n",
       "      <td>Month-1</td>\n",
       "      <td>Region - A</td>\n",
       "      <td>Manager - A</td>\n",
       "      <td>132921</td>\n",
       "      <td>270390</td>\n",
       "    </tr>\n",
       "    <tr>\n",
       "      <th>1</th>\n",
       "      <td>Month-2</td>\n",
       "      <td>Region - A</td>\n",
       "      <td>Manager - C</td>\n",
       "      <td>149559</td>\n",
       "      <td>223334</td>\n",
       "    </tr>\n",
       "    <tr>\n",
       "      <th>2</th>\n",
       "      <td>Month-3</td>\n",
       "      <td>Region - B</td>\n",
       "      <td>Manager - A</td>\n",
       "      <td>146278</td>\n",
       "      <td>244243</td>\n",
       "    </tr>\n",
       "    <tr>\n",
       "      <th>3</th>\n",
       "      <td>Month-4</td>\n",
       "      <td>Region - B</td>\n",
       "      <td>Manager - B</td>\n",
       "      <td>152167</td>\n",
       "      <td>231808</td>\n",
       "    </tr>\n",
       "    <tr>\n",
       "      <th>4</th>\n",
       "      <td>Month-5</td>\n",
       "      <td>Region - C</td>\n",
       "      <td>Manager - B</td>\n",
       "      <td>159525</td>\n",
       "      <td>258402</td>\n",
       "    </tr>\n",
       "  </tbody>\n",
       "</table>\n",
       "</div>"
      ],
      "text/plain": [
       "     Month      Region      Manager  Sales_before_digital_add(in $)  \\\n",
       "0  Month-1  Region - A  Manager - A                          132921   \n",
       "1  Month-2  Region - A  Manager - C                          149559   \n",
       "2  Month-3  Region - B  Manager - A                          146278   \n",
       "3  Month-4  Region - B  Manager - B                          152167   \n",
       "4  Month-5  Region - C  Manager - B                          159525   \n",
       "\n",
       "   Sales_After_digital_add(in $)  \n",
       "0                         270390  \n",
       "1                         223334  \n",
       "2                         244243  \n",
       "3                         231808  \n",
       "4                         258402  "
      ]
     },
     "execution_count": 2,
     "metadata": {},
     "output_type": "execute_result"
    }
   ],
   "source": [
    "df = pd.read_csv('Data/Sales_add.csv')\n",
    "df.head()"
   ]
  },
  {
   "cell_type": "markdown",
   "id": "09a52ac0",
   "metadata": {},
   "source": [
    "### Preliminary analysis"
   ]
  },
  {
   "cell_type": "code",
   "execution_count": 3,
   "id": "77e72dcd",
   "metadata": {},
   "outputs": [
    {
     "name": "stdout",
     "output_type": "stream",
     "text": [
      "<class 'pandas.core.frame.DataFrame'>\n",
      "RangeIndex: 22 entries, 0 to 21\n",
      "Data columns (total 5 columns):\n",
      " #   Column                          Non-Null Count  Dtype \n",
      "---  ------                          --------------  ----- \n",
      " 0   Month                           22 non-null     object\n",
      " 1   Region                          22 non-null     object\n",
      " 2   Manager                         22 non-null     object\n",
      " 3   Sales_before_digital_add(in $)  22 non-null     int64 \n",
      " 4   Sales_After_digital_add(in $)   22 non-null     int64 \n",
      "dtypes: int64(2), object(3)\n",
      "memory usage: 1008.0+ bytes\n"
     ]
    }
   ],
   "source": [
    "df.info()"
   ]
  },
  {
   "cell_type": "code",
   "execution_count": 4,
   "id": "acb6fa93",
   "metadata": {},
   "outputs": [
    {
     "data": {
      "text/html": [
       "<div>\n",
       "<style scoped>\n",
       "    .dataframe tbody tr th:only-of-type {\n",
       "        vertical-align: middle;\n",
       "    }\n",
       "\n",
       "    .dataframe tbody tr th {\n",
       "        vertical-align: top;\n",
       "    }\n",
       "\n",
       "    .dataframe thead th {\n",
       "        text-align: right;\n",
       "    }\n",
       "</style>\n",
       "<table border=\"1\" class=\"dataframe\">\n",
       "  <thead>\n",
       "    <tr style=\"text-align: right;\">\n",
       "      <th></th>\n",
       "      <th>Sales_before_digital_add(in $)</th>\n",
       "      <th>Sales_After_digital_add(in $)</th>\n",
       "    </tr>\n",
       "  </thead>\n",
       "  <tbody>\n",
       "    <tr>\n",
       "      <th>count</th>\n",
       "      <td>22.000000</td>\n",
       "      <td>22.000000</td>\n",
       "    </tr>\n",
       "    <tr>\n",
       "      <th>mean</th>\n",
       "      <td>149239.954545</td>\n",
       "      <td>231123.727273</td>\n",
       "    </tr>\n",
       "    <tr>\n",
       "      <th>std</th>\n",
       "      <td>14844.042921</td>\n",
       "      <td>25556.777061</td>\n",
       "    </tr>\n",
       "    <tr>\n",
       "      <th>min</th>\n",
       "      <td>130263.000000</td>\n",
       "      <td>187305.000000</td>\n",
       "    </tr>\n",
       "    <tr>\n",
       "      <th>25%</th>\n",
       "      <td>138087.750000</td>\n",
       "      <td>214960.750000</td>\n",
       "    </tr>\n",
       "    <tr>\n",
       "      <th>50%</th>\n",
       "      <td>147444.000000</td>\n",
       "      <td>229986.500000</td>\n",
       "    </tr>\n",
       "    <tr>\n",
       "      <th>75%</th>\n",
       "      <td>157627.500000</td>\n",
       "      <td>250909.000000</td>\n",
       "    </tr>\n",
       "    <tr>\n",
       "      <th>max</th>\n",
       "      <td>178939.000000</td>\n",
       "      <td>276279.000000</td>\n",
       "    </tr>\n",
       "  </tbody>\n",
       "</table>\n",
       "</div>"
      ],
      "text/plain": [
       "       Sales_before_digital_add(in $)  Sales_After_digital_add(in $)\n",
       "count                       22.000000                      22.000000\n",
       "mean                    149239.954545                  231123.727273\n",
       "std                      14844.042921                   25556.777061\n",
       "min                     130263.000000                  187305.000000\n",
       "25%                     138087.750000                  214960.750000\n",
       "50%                     147444.000000                  229986.500000\n",
       "75%                     157627.500000                  250909.000000\n",
       "max                     178939.000000                  276279.000000"
      ]
     },
     "execution_count": 4,
     "metadata": {},
     "output_type": "execute_result"
    }
   ],
   "source": [
    "df.describe()"
   ]
  },
  {
   "cell_type": "markdown",
   "id": "32281040",
   "metadata": {},
   "source": [
    "#### Insights:\n",
    "- The dataset contains 22 rows and 5 columns\n",
    "- There are no null values\n",
    "- Average sales before investing in digital marketing is \\\\$149239.95\n",
    "- Average sales after investing in digital marketing is \\\\$231123.73"
   ]
  },
  {
   "cell_type": "markdown",
   "id": "e2adb7e5",
   "metadata": {},
   "source": [
    "### 1. Testing for increase in sales"
   ]
  },
  {
   "cell_type": "markdown",
   "id": "94130373",
   "metadata": {},
   "source": [
    "#### Hypothesis:\n",
    "- $H_{0}$: The average sales before investing in digital marketing, ($\\mu_{1}$) = The average sales after investing in digital marketing, ($\\mu_{2}$)\n",
    "- $H_{a}$: The average sales after investing in digital marketing ($\\mu_{1}$) > The average sales before investing in digital marketing, ($\\mu_{2}$)\n",
    "- Significance level $\\alpha$: 0.05"
   ]
  },
  {
   "cell_type": "markdown",
   "id": "84292be8",
   "metadata": {},
   "source": [
    "As the sample size is small(n < 30), we use **one tailed t-test** to test our hypothesis"
   ]
  },
  {
   "cell_type": "code",
   "execution_count": 5,
   "id": "7457453b",
   "metadata": {},
   "outputs": [],
   "source": [
    "t_value, p_value = stats.ttest_ind(df['Sales_After_digital_add(in $)'], df['Sales_before_digital_add(in $)'], alternative='greater')"
   ]
  },
  {
   "cell_type": "markdown",
   "id": "f02f2a9d",
   "metadata": {},
   "source": [
    "Assuming the null hypothesis $H_{0}$ to be true:"
   ]
  },
  {
   "cell_type": "code",
   "execution_count": 12,
   "id": "e3238ba6",
   "metadata": {},
   "outputs": [
    {
     "name": "stdout",
     "output_type": "stream",
     "text": [
      "The t value is: 12.995084451110877\n",
      "The p value is:  1.3071840034523225e-16\n"
     ]
    }
   ],
   "source": [
    "print(\"The t value is:\", t_value)\n",
    "print(\"The p value is: \", p_value)"
   ]
  },
  {
   "cell_type": "markdown",
   "id": "b1084651",
   "metadata": {},
   "source": [
    "#### Insights:\n",
    "- The p value is much smaller than the significance level $\\alpha$: 0.05\n",
    "- We reject the null hypothesis"
   ]
  },
  {
   "cell_type": "markdown",
   "id": "91d01432",
   "metadata": {},
   "source": [
    "#### Conclusion:\n",
    "> There is an increase in sales after investing in digital marketing."
   ]
  },
  {
   "cell_type": "markdown",
   "id": "f5efa6c9",
   "metadata": {},
   "source": [
    "### 2. Checking for dependency between features: Manager and Region"
   ]
  },
  {
   "cell_type": "markdown",
   "id": "6d764ab9",
   "metadata": {},
   "source": [
    "To check the dependency between two categorical variable, we use the $\\chi^{2}$ test."
   ]
  },
  {
   "cell_type": "markdown",
   "id": "75f8c93a",
   "metadata": {},
   "source": [
    "#### Hypothesis:\n",
    "- $H_{0}$: The features **manager** and **region** are independent\n",
    "- $H_{a}$: The features are dependant\n",
    "- $\\alpha$: 0.05"
   ]
  },
  {
   "cell_type": "code",
   "execution_count": 13,
   "id": "0477f9f5",
   "metadata": {},
   "outputs": [
    {
     "data": {
      "text/html": [
       "<div>\n",
       "<style scoped>\n",
       "    .dataframe tbody tr th:only-of-type {\n",
       "        vertical-align: middle;\n",
       "    }\n",
       "\n",
       "    .dataframe tbody tr th {\n",
       "        vertical-align: top;\n",
       "    }\n",
       "\n",
       "    .dataframe thead th {\n",
       "        text-align: right;\n",
       "    }\n",
       "</style>\n",
       "<table border=\"1\" class=\"dataframe\">\n",
       "  <thead>\n",
       "    <tr style=\"text-align: right;\">\n",
       "      <th>Region</th>\n",
       "      <th>Region - A</th>\n",
       "      <th>Region - B</th>\n",
       "      <th>Region - C</th>\n",
       "    </tr>\n",
       "    <tr>\n",
       "      <th>Manager</th>\n",
       "      <th></th>\n",
       "      <th></th>\n",
       "      <th></th>\n",
       "    </tr>\n",
       "  </thead>\n",
       "  <tbody>\n",
       "    <tr>\n",
       "      <th>Manager - A</th>\n",
       "      <td>4</td>\n",
       "      <td>4</td>\n",
       "      <td>1</td>\n",
       "    </tr>\n",
       "    <tr>\n",
       "      <th>Manager - B</th>\n",
       "      <td>3</td>\n",
       "      <td>1</td>\n",
       "      <td>3</td>\n",
       "    </tr>\n",
       "    <tr>\n",
       "      <th>Manager - C</th>\n",
       "      <td>3</td>\n",
       "      <td>2</td>\n",
       "      <td>1</td>\n",
       "    </tr>\n",
       "  </tbody>\n",
       "</table>\n",
       "</div>"
      ],
      "text/plain": [
       "Region       Region - A  Region - B  Region - C\n",
       "Manager                                        \n",
       "Manager - A           4           4           1\n",
       "Manager - B           3           1           3\n",
       "Manager - C           3           2           1"
      ]
     },
     "execution_count": 13,
     "metadata": {},
     "output_type": "execute_result"
    }
   ],
   "source": [
    "contingency_table = pd.crosstab(df['Manager'], df['Region'])\n",
    "contingency_table"
   ]
  },
  {
   "cell_type": "code",
   "execution_count": 14,
   "id": "25bbf329",
   "metadata": {},
   "outputs": [
    {
     "data": {
      "text/plain": [
       "array([[4, 4, 1],\n",
       "       [3, 1, 3],\n",
       "       [3, 2, 1]], dtype=int64)"
      ]
     },
     "execution_count": 14,
     "metadata": {},
     "output_type": "execute_result"
    }
   ],
   "source": [
    "observed_values = contingency_table.values\n",
    "observed_values"
   ]
  },
  {
   "cell_type": "code",
   "execution_count": 15,
   "id": "c0a2e524",
   "metadata": {},
   "outputs": [],
   "source": [
    "x2, x2_p_value, deg_of_frdm, exp_val = stats.chi2_contingency(observed=observed_values)"
   ]
  },
  {
   "cell_type": "code",
   "execution_count": 21,
   "id": "5a7096e2",
   "metadata": {},
   "outputs": [
    {
     "name": "stdout",
     "output_type": "stream",
     "text": [
      "The expected values are: \n",
      "\n",
      " [[4.09090909 2.86363636 2.04545455]\n",
      " [3.18181818 2.22727273 1.59090909]\n",
      " [2.72727273 1.90909091 1.36363636]]\n",
      "\n",
      "The degree of freedom is:  4\n"
     ]
    }
   ],
   "source": [
    "print(\"The expected values are: \\n\\n\", exp_val)\n",
    "print(\"\\nThe degree of freedom is: \", deg_of_frdm)"
   ]
  },
  {
   "cell_type": "code",
   "execution_count": 22,
   "id": "5aea1e09",
   "metadata": {},
   "outputs": [
    {
     "name": "stdout",
     "output_type": "stream",
     "text": [
      "The chi square statistic is :  3.050566893424036\n",
      "\n",
      "The p-value for the chi square statistic is:  0.5493991051158094\n"
     ]
    }
   ],
   "source": [
    "print(\"The chi square statistic is : \", x2)\n",
    "print(\"\\nThe p-value for the chi square statistic is: \", x2_p_value)"
   ]
  },
  {
   "cell_type": "markdown",
   "id": "f6053cda",
   "metadata": {},
   "source": [
    "#### Insights:\n",
    "- The p-value is much higher than the significance value $\\alpha$: 0.05\n",
    "- We fail to reject the null hypothesis"
   ]
  },
  {
   "cell_type": "markdown",
   "id": "9a29f8e7",
   "metadata": {},
   "source": [
    "#### Conclusin:\n",
    "> The features are not dependent."
   ]
  }
 ],
 "metadata": {
  "kernelspec": {
   "display_name": "Python 3",
   "language": "python",
   "name": "python3"
  },
  "language_info": {
   "codemirror_mode": {
    "name": "ipython",
    "version": 3
   },
   "file_extension": ".py",
   "mimetype": "text/x-python",
   "name": "python",
   "nbconvert_exporter": "python",
   "pygments_lexer": "ipython3",
   "version": "3.8.8"
  }
 },
 "nbformat": 4,
 "nbformat_minor": 5
}
