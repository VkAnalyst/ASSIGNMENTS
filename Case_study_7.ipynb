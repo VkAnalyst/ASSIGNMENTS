{
 "cells": [
  {
   "cell_type": "markdown",
   "id": "571ae0a4",
   "metadata": {},
   "source": [
    "## Iris Dataset"
   ]
  },
  {
   "cell_type": "markdown",
   "id": "b3bdafa6",
   "metadata": {},
   "source": [
    "### Objectives:\n",
    "1. Read the dataset to the python environment.\n",
    "2. Do necessary `pre-processing` steps.\n",
    "3. Find out which classification model gives the best result to predict `iris species`.(also do random forest algorithm)"
   ]
  },
  {
   "cell_type": "markdown",
   "id": "2cbb8ee0",
   "metadata": {},
   "source": [
    "### Importing relevant libraries"
   ]
  },
  {
   "cell_type": "code",
   "execution_count": 106,
   "id": "3cdee610",
   "metadata": {},
   "outputs": [],
   "source": [
    "import pandas as pd\n",
    "import numpy as np\n",
    "import matplotlib.pyplot as plt\n",
    "import seaborn as sns"
   ]
  },
  {
   "cell_type": "code",
   "execution_count": 107,
   "id": "9cd3657c",
   "metadata": {},
   "outputs": [],
   "source": [
    "from sklearn import preprocessing\n",
    "from sklearn.linear_model import LogisticRegression\n",
    "from sklearn.model_selection import train_test_split, cross_val_score\n",
    "from sklearn.metrics import confusion_matrix, accuracy_score, precision_score, recall_score, f1_score"
   ]
  },
  {
   "cell_type": "code",
   "execution_count": 108,
   "id": "392497be",
   "metadata": {},
   "outputs": [],
   "source": [
    "from sklearn.neighbors import KNeighborsClassifier\n",
    "from sklearn.svm import SVC\n",
    "from sklearn.tree import DecisionTreeClassifier\n",
    "from sklearn.ensemble import RandomForestClassifier\n",
    "from sklearn.model_selection import ParameterGrid\n",
    "from sklearn.model_selection import GridSearchCV"
   ]
  },
  {
   "cell_type": "markdown",
   "id": "a63e2556",
   "metadata": {},
   "source": [
    "#### Setting up visualization"
   ]
  },
  {
   "cell_type": "code",
   "execution_count": 109,
   "id": "64de2430",
   "metadata": {},
   "outputs": [],
   "source": [
    "%matplotlib inline\n",
    "sns.set_style('darkgrid')\n",
    "plt.rcParams.update({'figure.dpi': 100})"
   ]
  },
  {
   "cell_type": "markdown",
   "id": "95bc5b2d",
   "metadata": {},
   "source": [
    "### 1. Reading the dataset into python environment"
   ]
  },
  {
   "cell_type": "code",
   "execution_count": 110,
   "id": "c2826d3d",
   "metadata": {},
   "outputs": [
    {
     "data": {
      "text/html": [
       "<div>\n",
       "<style scoped>\n",
       "    .dataframe tbody tr th:only-of-type {\n",
       "        vertical-align: middle;\n",
       "    }\n",
       "\n",
       "    .dataframe tbody tr th {\n",
       "        vertical-align: top;\n",
       "    }\n",
       "\n",
       "    .dataframe thead th {\n",
       "        text-align: right;\n",
       "    }\n",
       "</style>\n",
       "<table border=\"1\" class=\"dataframe\">\n",
       "  <thead>\n",
       "    <tr style=\"text-align: right;\">\n",
       "      <th></th>\n",
       "      <th>SL</th>\n",
       "      <th>SW</th>\n",
       "      <th>PL</th>\n",
       "      <th>PW</th>\n",
       "      <th>Classification</th>\n",
       "    </tr>\n",
       "  </thead>\n",
       "  <tbody>\n",
       "    <tr>\n",
       "      <th>0</th>\n",
       "      <td>5.1</td>\n",
       "      <td>3.5</td>\n",
       "      <td>1.4</td>\n",
       "      <td>0.2</td>\n",
       "      <td>Iris-setosa</td>\n",
       "    </tr>\n",
       "    <tr>\n",
       "      <th>1</th>\n",
       "      <td>4.9</td>\n",
       "      <td>3.0</td>\n",
       "      <td>1.4</td>\n",
       "      <td>0.2</td>\n",
       "      <td>Iris-setosa</td>\n",
       "    </tr>\n",
       "    <tr>\n",
       "      <th>2</th>\n",
       "      <td>NaN</td>\n",
       "      <td>3.2</td>\n",
       "      <td>1.3</td>\n",
       "      <td>0.2</td>\n",
       "      <td>Iris-setosa</td>\n",
       "    </tr>\n",
       "    <tr>\n",
       "      <th>3</th>\n",
       "      <td>4.6</td>\n",
       "      <td>3.1</td>\n",
       "      <td>1.5</td>\n",
       "      <td>0.2</td>\n",
       "      <td>Iris-setosa</td>\n",
       "    </tr>\n",
       "    <tr>\n",
       "      <th>4</th>\n",
       "      <td>5.0</td>\n",
       "      <td>3.6</td>\n",
       "      <td>1.4</td>\n",
       "      <td>0.2</td>\n",
       "      <td>Iris-setosa</td>\n",
       "    </tr>\n",
       "  </tbody>\n",
       "</table>\n",
       "</div>"
      ],
      "text/plain": [
       "    SL   SW   PL   PW Classification\n",
       "0  5.1  3.5  1.4  0.2    Iris-setosa\n",
       "1  4.9  3.0  1.4  0.2    Iris-setosa\n",
       "2  NaN  3.2  1.3  0.2    Iris-setosa\n",
       "3  4.6  3.1  1.5  0.2    Iris-setosa\n",
       "4  5.0  3.6  1.4  0.2    Iris-setosa"
      ]
     },
     "execution_count": 110,
     "metadata": {},
     "output_type": "execute_result"
    }
   ],
   "source": [
    "df = pd.read_excel('Data/iris.xls')\n",
    "df.head()"
   ]
  },
  {
   "cell_type": "markdown",
   "id": "ad0938ea",
   "metadata": {},
   "source": [
    "### Preliminary analysis"
   ]
  },
  {
   "cell_type": "code",
   "execution_count": 111,
   "id": "6980a27b",
   "metadata": {},
   "outputs": [
    {
     "name": "stdout",
     "output_type": "stream",
     "text": [
      "<class 'pandas.core.frame.DataFrame'>\n",
      "RangeIndex: 150 entries, 0 to 149\n",
      "Data columns (total 5 columns):\n",
      " #   Column          Non-Null Count  Dtype  \n",
      "---  ------          --------------  -----  \n",
      " 0   SL              143 non-null    float64\n",
      " 1   SW              144 non-null    float64\n",
      " 2   PL              144 non-null    float64\n",
      " 3   PW              150 non-null    float64\n",
      " 4   Classification  150 non-null    object \n",
      "dtypes: float64(4), object(1)\n",
      "memory usage: 6.0+ KB\n"
     ]
    }
   ],
   "source": [
    "df.info()"
   ]
  },
  {
   "cell_type": "code",
   "execution_count": 112,
   "id": "69dd9418",
   "metadata": {},
   "outputs": [
    {
     "data": {
      "text/html": [
       "<div>\n",
       "<style scoped>\n",
       "    .dataframe tbody tr th:only-of-type {\n",
       "        vertical-align: middle;\n",
       "    }\n",
       "\n",
       "    .dataframe tbody tr th {\n",
       "        vertical-align: top;\n",
       "    }\n",
       "\n",
       "    .dataframe thead th {\n",
       "        text-align: right;\n",
       "    }\n",
       "</style>\n",
       "<table border=\"1\" class=\"dataframe\">\n",
       "  <thead>\n",
       "    <tr style=\"text-align: right;\">\n",
       "      <th></th>\n",
       "      <th>SL</th>\n",
       "      <th>SW</th>\n",
       "      <th>PL</th>\n",
       "      <th>PW</th>\n",
       "    </tr>\n",
       "  </thead>\n",
       "  <tbody>\n",
       "    <tr>\n",
       "      <th>count</th>\n",
       "      <td>143.000000</td>\n",
       "      <td>144.000000</td>\n",
       "      <td>144.000000</td>\n",
       "      <td>150.000000</td>\n",
       "    </tr>\n",
       "    <tr>\n",
       "      <th>mean</th>\n",
       "      <td>5.855944</td>\n",
       "      <td>3.049306</td>\n",
       "      <td>3.756250</td>\n",
       "      <td>1.198667</td>\n",
       "    </tr>\n",
       "    <tr>\n",
       "      <th>std</th>\n",
       "      <td>0.828168</td>\n",
       "      <td>0.430644</td>\n",
       "      <td>1.761306</td>\n",
       "      <td>0.763161</td>\n",
       "    </tr>\n",
       "    <tr>\n",
       "      <th>min</th>\n",
       "      <td>4.300000</td>\n",
       "      <td>2.000000</td>\n",
       "      <td>1.000000</td>\n",
       "      <td>0.100000</td>\n",
       "    </tr>\n",
       "    <tr>\n",
       "      <th>25%</th>\n",
       "      <td>5.100000</td>\n",
       "      <td>2.800000</td>\n",
       "      <td>1.600000</td>\n",
       "      <td>0.300000</td>\n",
       "    </tr>\n",
       "    <tr>\n",
       "      <th>50%</th>\n",
       "      <td>5.800000</td>\n",
       "      <td>3.000000</td>\n",
       "      <td>4.350000</td>\n",
       "      <td>1.300000</td>\n",
       "    </tr>\n",
       "    <tr>\n",
       "      <th>75%</th>\n",
       "      <td>6.400000</td>\n",
       "      <td>3.300000</td>\n",
       "      <td>5.100000</td>\n",
       "      <td>1.800000</td>\n",
       "    </tr>\n",
       "    <tr>\n",
       "      <th>max</th>\n",
       "      <td>7.900000</td>\n",
       "      <td>4.400000</td>\n",
       "      <td>6.900000</td>\n",
       "      <td>2.500000</td>\n",
       "    </tr>\n",
       "  </tbody>\n",
       "</table>\n",
       "</div>"
      ],
      "text/plain": [
       "               SL          SW          PL          PW\n",
       "count  143.000000  144.000000  144.000000  150.000000\n",
       "mean     5.855944    3.049306    3.756250    1.198667\n",
       "std      0.828168    0.430644    1.761306    0.763161\n",
       "min      4.300000    2.000000    1.000000    0.100000\n",
       "25%      5.100000    2.800000    1.600000    0.300000\n",
       "50%      5.800000    3.000000    4.350000    1.300000\n",
       "75%      6.400000    3.300000    5.100000    1.800000\n",
       "max      7.900000    4.400000    6.900000    2.500000"
      ]
     },
     "execution_count": 112,
     "metadata": {},
     "output_type": "execute_result"
    }
   ],
   "source": [
    "df.describe()"
   ]
  },
  {
   "cell_type": "code",
   "execution_count": 113,
   "id": "bc60267f",
   "metadata": {},
   "outputs": [
    {
     "data": {
      "text/plain": [
       "SL                7\n",
       "SW                6\n",
       "PL                6\n",
       "PW                0\n",
       "Classification    0\n",
       "dtype: int64"
      ]
     },
     "execution_count": 113,
     "metadata": {},
     "output_type": "execute_result"
    }
   ],
   "source": [
    "df.isnull().sum()"
   ]
  },
  {
   "cell_type": "code",
   "execution_count": 114,
   "id": "07d2d8af",
   "metadata": {},
   "outputs": [
    {
     "data": {
      "text/plain": [
       "Iris-setosa        50\n",
       "Iris-virginica     50\n",
       "Iris-versicolor    50\n",
       "Name: Classification, dtype: int64"
      ]
     },
     "execution_count": 114,
     "metadata": {},
     "output_type": "execute_result"
    }
   ],
   "source": [
    "df['Classification'].value_counts()"
   ]
  },
  {
   "cell_type": "markdown",
   "id": "65cf7305",
   "metadata": {},
   "source": [
    "#### Insights:\n",
    "- The dataset contains the sepal and petal measurements of the iris flower\n",
    "- The dataset contains information about three species of iris namely\n",
    "> Iris Setosa, Iris Virginica, Iris Versicolor\n",
    "- The sepal length, petal length, and sepal width columns contain null values"
   ]
  },
  {
   "cell_type": "markdown",
   "id": "715389bd",
   "metadata": {},
   "source": [
    "### 2. Preprocessing steps"
   ]
  },
  {
   "cell_type": "markdown",
   "id": "24cdb49b",
   "metadata": {},
   "source": [
    "#### Handling null values"
   ]
  },
  {
   "cell_type": "code",
   "execution_count": 115,
   "id": "a159b73c",
   "metadata": {},
   "outputs": [
    {
     "data": {
      "text/html": [
       "<div>\n",
       "<style scoped>\n",
       "    .dataframe tbody tr th:only-of-type {\n",
       "        vertical-align: middle;\n",
       "    }\n",
       "\n",
       "    .dataframe tbody tr th {\n",
       "        vertical-align: top;\n",
       "    }\n",
       "\n",
       "    .dataframe thead th {\n",
       "        text-align: right;\n",
       "    }\n",
       "</style>\n",
       "<table border=\"1\" class=\"dataframe\">\n",
       "  <thead>\n",
       "    <tr style=\"text-align: right;\">\n",
       "      <th></th>\n",
       "      <th>SL</th>\n",
       "      <th>SW</th>\n",
       "      <th>PL</th>\n",
       "      <th>PW</th>\n",
       "      <th>Classification</th>\n",
       "    </tr>\n",
       "  </thead>\n",
       "  <tbody>\n",
       "    <tr>\n",
       "      <th>2</th>\n",
       "      <td>NaN</td>\n",
       "      <td>3.2</td>\n",
       "      <td>1.3</td>\n",
       "      <td>0.2</td>\n",
       "      <td>Iris-setosa</td>\n",
       "    </tr>\n",
       "    <tr>\n",
       "      <th>21</th>\n",
       "      <td>NaN</td>\n",
       "      <td>3.7</td>\n",
       "      <td>1.5</td>\n",
       "      <td>0.4</td>\n",
       "      <td>Iris-setosa</td>\n",
       "    </tr>\n",
       "    <tr>\n",
       "      <th>39</th>\n",
       "      <td>NaN</td>\n",
       "      <td>3.4</td>\n",
       "      <td>1.5</td>\n",
       "      <td>0.2</td>\n",
       "      <td>Iris-setosa</td>\n",
       "    </tr>\n",
       "    <tr>\n",
       "      <th>51</th>\n",
       "      <td>NaN</td>\n",
       "      <td>3.2</td>\n",
       "      <td>4.5</td>\n",
       "      <td>1.5</td>\n",
       "      <td>Iris-versicolor</td>\n",
       "    </tr>\n",
       "    <tr>\n",
       "      <th>85</th>\n",
       "      <td>NaN</td>\n",
       "      <td>3.4</td>\n",
       "      <td>4.5</td>\n",
       "      <td>1.6</td>\n",
       "      <td>Iris-versicolor</td>\n",
       "    </tr>\n",
       "    <tr>\n",
       "      <th>106</th>\n",
       "      <td>NaN</td>\n",
       "      <td>2.5</td>\n",
       "      <td>4.5</td>\n",
       "      <td>1.7</td>\n",
       "      <td>Iris-virginica</td>\n",
       "    </tr>\n",
       "    <tr>\n",
       "      <th>141</th>\n",
       "      <td>NaN</td>\n",
       "      <td>3.1</td>\n",
       "      <td>5.1</td>\n",
       "      <td>2.3</td>\n",
       "      <td>Iris-virginica</td>\n",
       "    </tr>\n",
       "  </tbody>\n",
       "</table>\n",
       "</div>"
      ],
      "text/plain": [
       "     SL   SW   PL   PW   Classification\n",
       "2   NaN  3.2  1.3  0.2      Iris-setosa\n",
       "21  NaN  3.7  1.5  0.4      Iris-setosa\n",
       "39  NaN  3.4  1.5  0.2      Iris-setosa\n",
       "51  NaN  3.2  4.5  1.5  Iris-versicolor\n",
       "85  NaN  3.4  4.5  1.6  Iris-versicolor\n",
       "106 NaN  2.5  4.5  1.7   Iris-virginica\n",
       "141 NaN  3.1  5.1  2.3   Iris-virginica"
      ]
     },
     "execution_count": 115,
     "metadata": {},
     "output_type": "execute_result"
    }
   ],
   "source": [
    "df.loc[df['SL'].isnull()]"
   ]
  },
  {
   "cell_type": "code",
   "execution_count": 116,
   "id": "8ebf89f1",
   "metadata": {},
   "outputs": [
    {
     "data": {
      "text/html": [
       "<div>\n",
       "<style scoped>\n",
       "    .dataframe tbody tr th:only-of-type {\n",
       "        vertical-align: middle;\n",
       "    }\n",
       "\n",
       "    .dataframe tbody tr th {\n",
       "        vertical-align: top;\n",
       "    }\n",
       "\n",
       "    .dataframe thead th {\n",
       "        text-align: right;\n",
       "    }\n",
       "</style>\n",
       "<table border=\"1\" class=\"dataframe\">\n",
       "  <thead>\n",
       "    <tr style=\"text-align: right;\">\n",
       "      <th></th>\n",
       "      <th>SL</th>\n",
       "      <th>SW</th>\n",
       "      <th>PL</th>\n",
       "      <th>PW</th>\n",
       "      <th>Classification</th>\n",
       "    </tr>\n",
       "  </thead>\n",
       "  <tbody>\n",
       "    <tr>\n",
       "      <th>10</th>\n",
       "      <td>5.4</td>\n",
       "      <td>NaN</td>\n",
       "      <td>1.5</td>\n",
       "      <td>0.2</td>\n",
       "      <td>Iris-setosa</td>\n",
       "    </tr>\n",
       "    <tr>\n",
       "      <th>27</th>\n",
       "      <td>5.2</td>\n",
       "      <td>NaN</td>\n",
       "      <td>1.5</td>\n",
       "      <td>0.2</td>\n",
       "      <td>Iris-setosa</td>\n",
       "    </tr>\n",
       "    <tr>\n",
       "      <th>43</th>\n",
       "      <td>5.0</td>\n",
       "      <td>NaN</td>\n",
       "      <td>1.6</td>\n",
       "      <td>0.6</td>\n",
       "      <td>Iris-setosa</td>\n",
       "    </tr>\n",
       "    <tr>\n",
       "      <th>72</th>\n",
       "      <td>6.3</td>\n",
       "      <td>NaN</td>\n",
       "      <td>4.9</td>\n",
       "      <td>1.5</td>\n",
       "      <td>Iris-versicolor</td>\n",
       "    </tr>\n",
       "    <tr>\n",
       "      <th>98</th>\n",
       "      <td>5.1</td>\n",
       "      <td>NaN</td>\n",
       "      <td>3.0</td>\n",
       "      <td>1.1</td>\n",
       "      <td>Iris-versicolor</td>\n",
       "    </tr>\n",
       "    <tr>\n",
       "      <th>124</th>\n",
       "      <td>6.7</td>\n",
       "      <td>NaN</td>\n",
       "      <td>5.7</td>\n",
       "      <td>2.1</td>\n",
       "      <td>Iris-virginica</td>\n",
       "    </tr>\n",
       "  </tbody>\n",
       "</table>\n",
       "</div>"
      ],
      "text/plain": [
       "      SL  SW   PL   PW   Classification\n",
       "10   5.4 NaN  1.5  0.2      Iris-setosa\n",
       "27   5.2 NaN  1.5  0.2      Iris-setosa\n",
       "43   5.0 NaN  1.6  0.6      Iris-setosa\n",
       "72   6.3 NaN  4.9  1.5  Iris-versicolor\n",
       "98   5.1 NaN  3.0  1.1  Iris-versicolor\n",
       "124  6.7 NaN  5.7  2.1   Iris-virginica"
      ]
     },
     "execution_count": 116,
     "metadata": {},
     "output_type": "execute_result"
    }
   ],
   "source": [
    "df.loc[df['SW'].isnull()]"
   ]
  },
  {
   "cell_type": "code",
   "execution_count": 117,
   "id": "e1332c46",
   "metadata": {},
   "outputs": [
    {
     "data": {
      "text/html": [
       "<div>\n",
       "<style scoped>\n",
       "    .dataframe tbody tr th:only-of-type {\n",
       "        vertical-align: middle;\n",
       "    }\n",
       "\n",
       "    .dataframe tbody tr th {\n",
       "        vertical-align: top;\n",
       "    }\n",
       "\n",
       "    .dataframe thead th {\n",
       "        text-align: right;\n",
       "    }\n",
       "</style>\n",
       "<table border=\"1\" class=\"dataframe\">\n",
       "  <thead>\n",
       "    <tr style=\"text-align: right;\">\n",
       "      <th></th>\n",
       "      <th>SL</th>\n",
       "      <th>SW</th>\n",
       "      <th>PL</th>\n",
       "      <th>PW</th>\n",
       "      <th>Classification</th>\n",
       "    </tr>\n",
       "  </thead>\n",
       "  <tbody>\n",
       "    <tr>\n",
       "      <th>28</th>\n",
       "      <td>5.2</td>\n",
       "      <td>3.4</td>\n",
       "      <td>NaN</td>\n",
       "      <td>0.2</td>\n",
       "      <td>Iris-setosa</td>\n",
       "    </tr>\n",
       "    <tr>\n",
       "      <th>42</th>\n",
       "      <td>4.4</td>\n",
       "      <td>3.2</td>\n",
       "      <td>NaN</td>\n",
       "      <td>0.2</td>\n",
       "      <td>Iris-setosa</td>\n",
       "    </tr>\n",
       "    <tr>\n",
       "      <th>56</th>\n",
       "      <td>6.3</td>\n",
       "      <td>3.3</td>\n",
       "      <td>NaN</td>\n",
       "      <td>1.6</td>\n",
       "      <td>Iris-versicolor</td>\n",
       "    </tr>\n",
       "    <tr>\n",
       "      <th>94</th>\n",
       "      <td>5.6</td>\n",
       "      <td>2.7</td>\n",
       "      <td>NaN</td>\n",
       "      <td>1.3</td>\n",
       "      <td>Iris-versicolor</td>\n",
       "    </tr>\n",
       "    <tr>\n",
       "      <th>109</th>\n",
       "      <td>7.2</td>\n",
       "      <td>3.6</td>\n",
       "      <td>NaN</td>\n",
       "      <td>2.5</td>\n",
       "      <td>Iris-virginica</td>\n",
       "    </tr>\n",
       "    <tr>\n",
       "      <th>147</th>\n",
       "      <td>6.5</td>\n",
       "      <td>3.0</td>\n",
       "      <td>NaN</td>\n",
       "      <td>2.0</td>\n",
       "      <td>Iris-virginica</td>\n",
       "    </tr>\n",
       "  </tbody>\n",
       "</table>\n",
       "</div>"
      ],
      "text/plain": [
       "      SL   SW  PL   PW   Classification\n",
       "28   5.2  3.4 NaN  0.2      Iris-setosa\n",
       "42   4.4  3.2 NaN  0.2      Iris-setosa\n",
       "56   6.3  3.3 NaN  1.6  Iris-versicolor\n",
       "94   5.6  2.7 NaN  1.3  Iris-versicolor\n",
       "109  7.2  3.6 NaN  2.5   Iris-virginica\n",
       "147  6.5  3.0 NaN  2.0   Iris-virginica"
      ]
     },
     "execution_count": 117,
     "metadata": {},
     "output_type": "execute_result"
    }
   ],
   "source": [
    "df.loc[df['PL'].isnull()]"
   ]
  },
  {
   "cell_type": "markdown",
   "id": "1bb20e33",
   "metadata": {},
   "source": [
    "#### KDE Plot of `petal length` and `petal width`"
   ]
  },
  {
   "cell_type": "code",
   "execution_count": 118,
   "id": "37f153d3",
   "metadata": {},
   "outputs": [
    {
     "data": {
      "image/png": "[encoded data removed]",
      "text/plain": [
       "<Figure size 600x300 with 2 Axes>"
      ]
     },
     "metadata": {},
     "output_type": "display_data"
    }
   ],
   "source": [
    "plt.figure(figsize=(6, 3))\n",
    "plt.subplot(1, 2, 1)\n",
    "sns.kdeplot(data = df, x='PL', hue='Classification')\n",
    "\n",
    "plt.subplot(1, 2, 2)\n",
    "sns.kdeplot(data = df, x = 'PW', hue = 'Classification')\n",
    "\n",
    "plt.tight_layout()"
   ]
  },
  {
   "cell_type": "markdown",
   "id": "6bb091a3",
   "metadata": {},
   "source": [
    "#### KDE Plot of `sepal length` and `sepal width`"
   ]
  },
  {
   "cell_type": "code",
   "execution_count": 119,
   "id": "5fe44566",
   "metadata": {},
   "outputs": [
    {
     "data": {
      "image/png": "[encoded data removed]",
      "text/plain": [
       "<Figure size 700x350 with 2 Axes>"
      ]
     },
     "metadata": {},
     "output_type": "display_data"
    }
   ],
   "source": [
    "plt.figure(figsize=(7, 3.5))\n",
    "\n",
    "plt.subplot(1, 2, 1)\n",
    "sns.kdeplot(data = df, x = 'SL', hue = 'Classification')\n",
    "\n",
    "plt.subplot(1, 2, 2)\n",
    "sns.kdeplot(data = df, x = 'SW', hue = 'Classification')\n",
    "\n",
    "plt.tight_layout()"
   ]
  },
  {
   "cell_type": "markdown",
   "id": "91cb08a2",
   "metadata": {},
   "source": [
    "#### Observations:\n",
    "- From the above plots and also because of low standard deviation, it appears better to fill null values with means of respective species."
   ]
  },
  {
   "cell_type": "code",
   "execution_count": 120,
   "id": "35e2b6cf",
   "metadata": {},
   "outputs": [
    {
     "data": {
      "text/plain": [
       "Classification\n",
       "Iris-setosa        5.008511\n",
       "Iris-versicolor    5.925000\n",
       "Iris-virginica     6.616667\n",
       "Name: SL, dtype: float64"
      ]
     },
     "execution_count": 120,
     "metadata": {},
     "output_type": "execute_result"
    }
   ],
   "source": [
    "df.groupby('Classification')['SL'].mean()"
   ]
  },
  {
   "cell_type": "code",
   "execution_count": 121,
   "id": "2d2a6abe",
   "metadata": {},
   "outputs": [],
   "source": [
    "df['SL'].fillna(df.groupby('Classification')['SL'].transform('mean'), inplace=True)"
   ]
  },
  {
   "cell_type": "code",
   "execution_count": 122,
   "id": "399b4f9a",
   "metadata": {},
   "outputs": [
    {
     "data": {
      "text/plain": [
       "0"
      ]
     },
     "execution_count": 122,
     "metadata": {},
     "output_type": "execute_result"
    }
   ],
   "source": [
    "df['SL'].isnull().sum()"
   ]
  },
  {
   "cell_type": "code",
   "execution_count": 123,
   "id": "6db3c3ca",
   "metadata": {},
   "outputs": [
    {
     "data": {
      "text/plain": [
       "Classification\n",
       "Iris-setosa        3.408511\n",
       "Iris-versicolor    2.781250\n",
       "Iris-virginica     2.967347\n",
       "Name: SW, dtype: float64"
      ]
     },
     "execution_count": 123,
     "metadata": {},
     "output_type": "execute_result"
    }
   ],
   "source": [
    "df.groupby('Classification')['SW'].mean()"
   ]
  },
  {
   "cell_type": "code",
   "execution_count": 124,
   "id": "c246b1fa",
   "metadata": {},
   "outputs": [],
   "source": [
    "df['SW'].fillna(df.groupby('Classification')['SW'].transform('mean'), inplace=True)"
   ]
  },
  {
   "cell_type": "code",
   "execution_count": 125,
   "id": "5268c53b",
   "metadata": {},
   "outputs": [
    {
     "data": {
      "text/plain": [
       "0"
      ]
     },
     "execution_count": 125,
     "metadata": {},
     "output_type": "execute_result"
    }
   ],
   "source": [
    "df['SW'].isnull().sum()"
   ]
  },
  {
   "cell_type": "code",
   "execution_count": 126,
   "id": "0449ebf3",
   "metadata": {},
   "outputs": [
    {
     "data": {
      "text/plain": [
       "Classification\n",
       "Iris-setosa        1.468750\n",
       "Iris-versicolor    4.252083\n",
       "Iris-virginica     5.547917\n",
       "Name: PL, dtype: float64"
      ]
     },
     "execution_count": 126,
     "metadata": {},
     "output_type": "execute_result"
    }
   ],
   "source": [
    "df.groupby('Classification')['PL'].mean()"
   ]
  },
  {
   "cell_type": "code",
   "execution_count": 127,
   "id": "8c3a08f0",
   "metadata": {},
   "outputs": [
    {
     "data": {
      "text/plain": [
       "Classification\n",
       "Iris-setosa        1.50\n",
       "Iris-versicolor    4.35\n",
       "Iris-virginica     5.55\n",
       "Name: PL, dtype: float64"
      ]
     },
     "execution_count": 127,
     "metadata": {},
     "output_type": "execute_result"
    }
   ],
   "source": [
    "df.groupby('Classification')['PL'].median()"
   ]
  },
  {
   "cell_type": "code",
   "execution_count": 128,
   "id": "d8585296",
   "metadata": {},
   "outputs": [],
   "source": [
    "df['PL'].fillna(df.groupby('Classification')['PL'].transform('mean'), inplace=True)"
   ]
  },
  {
   "cell_type": "code",
   "execution_count": 129,
   "id": "a23add3e",
   "metadata": {},
   "outputs": [
    {
     "data": {
      "text/plain": [
       "0"
      ]
     },
     "execution_count": 129,
     "metadata": {},
     "output_type": "execute_result"
    }
   ],
   "source": [
    "df['PL'].isnull().sum()"
   ]
  },
  {
   "cell_type": "code",
   "execution_count": 130,
   "id": "98f36b47",
   "metadata": {},
   "outputs": [
    {
     "data": {
      "text/plain": [
       "SL                0\n",
       "SW                0\n",
       "PL                0\n",
       "PW                0\n",
       "Classification    0\n",
       "dtype: int64"
      ]
     },
     "execution_count": 130,
     "metadata": {},
     "output_type": "execute_result"
    }
   ],
   "source": [
    "df.isnull().sum()"
   ]
  },
  {
   "cell_type": "markdown",
   "id": "32e3ca4e",
   "metadata": {},
   "source": [
    "**All missing values handled successfully**"
   ]
  },
  {
   "cell_type": "markdown",
   "id": "f6f2be0e",
   "metadata": {},
   "source": [
    "#### Handling outliers"
   ]
  },
  {
   "cell_type": "code",
   "execution_count": 131,
   "id": "5178b31e",
   "metadata": {},
   "outputs": [
    {
     "data": {
      "image/png": "[encoded data removed]",
      "text/plain": [
       "<Figure size 600x400 with 1 Axes>"
      ]
     },
     "metadata": {},
     "output_type": "display_data"
    }
   ],
   "source": [
    "sns.boxplot(data=df, orient='h')\n",
    "plt.show()"
   ]
  },
  {
   "cell_type": "code",
   "execution_count": 132,
   "id": "33bc9323",
   "metadata": {},
   "outputs": [],
   "source": [
    "q1 = df['SW'].quantile(q=0.25, interpolation='midpoint')\n",
    "q3 = df['SW'].quantile(q=0.75, interpolation='midpoint')\n",
    "iqr = q3 - q1\n",
    "q_limit = 1.5 * (iqr)"
   ]
  },
  {
   "cell_type": "code",
   "execution_count": 133,
   "id": "3712404d",
   "metadata": {},
   "outputs": [
    {
     "name": "stdout",
     "output_type": "stream",
     "text": [
      "Q1 is 2.8\n",
      "Q2 is 3.3\n",
      "Inter Quartile Range is 0.5 \n",
      " 1.5 times IQR is 0.75\n"
     ]
    }
   ],
   "source": [
    "print(f\"Q1 is {q1}\\nQ2 is {q3}\\nInter Quartile Range is {iqr} \\n 1.5 times IQR is {q_limit}\")"
   ]
  },
  {
   "cell_type": "code",
   "execution_count": 134,
   "id": "2752fd81",
   "metadata": {},
   "outputs": [],
   "source": [
    "lower_limit = q1 - q_limit\n",
    "upper_limit = q3 + q_limit"
   ]
  },
  {
   "cell_type": "code",
   "execution_count": 135,
   "id": "f5c2d3aa",
   "metadata": {},
   "outputs": [
    {
     "name": "stdout",
     "output_type": "stream",
     "text": [
      "\n",
      "The lower limit is 2.05 \n",
      "\n",
      "The upper limit is 4.05\n"
     ]
    }
   ],
   "source": [
    "print(f\"\\nThe lower limit is {lower_limit} \\n\\nThe upper limit is {upper_limit}\")"
   ]
  },
  {
   "cell_type": "code",
   "execution_count": 136,
   "id": "448ef94a",
   "metadata": {},
   "outputs": [
    {
     "data": {
      "text/html": [
       "<div>\n",
       "<style scoped>\n",
       "    .dataframe tbody tr th:only-of-type {\n",
       "        vertical-align: middle;\n",
       "    }\n",
       "\n",
       "    .dataframe tbody tr th {\n",
       "        vertical-align: top;\n",
       "    }\n",
       "\n",
       "    .dataframe thead th {\n",
       "        text-align: right;\n",
       "    }\n",
       "</style>\n",
       "<table border=\"1\" class=\"dataframe\">\n",
       "  <thead>\n",
       "    <tr style=\"text-align: right;\">\n",
       "      <th></th>\n",
       "      <th>SL</th>\n",
       "      <th>SW</th>\n",
       "      <th>PL</th>\n",
       "      <th>PW</th>\n",
       "      <th>Classification</th>\n",
       "    </tr>\n",
       "  </thead>\n",
       "  <tbody>\n",
       "    <tr>\n",
       "      <th>15</th>\n",
       "      <td>5.7</td>\n",
       "      <td>4.4</td>\n",
       "      <td>1.5</td>\n",
       "      <td>0.4</td>\n",
       "      <td>Iris-setosa</td>\n",
       "    </tr>\n",
       "    <tr>\n",
       "      <th>32</th>\n",
       "      <td>5.2</td>\n",
       "      <td>4.1</td>\n",
       "      <td>1.5</td>\n",
       "      <td>0.1</td>\n",
       "      <td>Iris-setosa</td>\n",
       "    </tr>\n",
       "    <tr>\n",
       "      <th>33</th>\n",
       "      <td>5.5</td>\n",
       "      <td>4.2</td>\n",
       "      <td>1.4</td>\n",
       "      <td>0.2</td>\n",
       "      <td>Iris-setosa</td>\n",
       "    </tr>\n",
       "    <tr>\n",
       "      <th>60</th>\n",
       "      <td>5.0</td>\n",
       "      <td>2.0</td>\n",
       "      <td>3.5</td>\n",
       "      <td>1.0</td>\n",
       "      <td>Iris-versicolor</td>\n",
       "    </tr>\n",
       "  </tbody>\n",
       "</table>\n",
       "</div>"
      ],
      "text/plain": [
       "     SL   SW   PL   PW   Classification\n",
       "15  5.7  4.4  1.5  0.4      Iris-setosa\n",
       "32  5.2  4.1  1.5  0.1      Iris-setosa\n",
       "33  5.5  4.2  1.4  0.2      Iris-setosa\n",
       "60  5.0  2.0  3.5  1.0  Iris-versicolor"
      ]
     },
     "execution_count": 136,
     "metadata": {},
     "output_type": "execute_result"
    }
   ],
   "source": [
    "df.loc[(df['SW'] > 4.05) ^ (df['SW'] < 2.05)]"
   ]
  },
  {
   "cell_type": "markdown",
   "id": "cfa9da35",
   "metadata": {},
   "source": [
    "Since there are very few outliers and they are very close to upper and lower limits, they are kept in the data."
   ]
  },
  {
   "cell_type": "code",
   "execution_count": 137,
   "id": "882c2d49",
   "metadata": {
    "scrolled": true
   },
   "outputs": [
    {
     "data": {
      "image/png": "[encoded data removed]",
      "text/plain": [
       "<Figure size 500x300 with 2 Axes>"
      ]
     },
     "metadata": {},
     "output_type": "display_data"
    }
   ],
   "source": [
    "plt.figure(figsize=(5, 3))\n",
    "corr_matrix = df.drop('Classification', axis=1).corr()\n",
    "sns.heatmap(corr_matrix, annot=True)\n",
    "plt.show()"
   ]
  },
  {
   "cell_type": "markdown",
   "id": "6b55b4a0",
   "metadata": {},
   "source": [
    "#### Label encoding the `classification` column"
   ]
  },
  {
   "cell_type": "code",
   "execution_count": 138,
   "id": "1645699b",
   "metadata": {},
   "outputs": [],
   "source": [
    "label_encoder = preprocessing.LabelEncoder()"
   ]
  },
  {
   "cell_type": "code",
   "execution_count": 139,
   "id": "b97feb14",
   "metadata": {},
   "outputs": [],
   "source": [
    "X = df.drop('Classification', axis = 1)\n",
    "y = df['Classification']"
   ]
  },
  {
   "cell_type": "code",
   "execution_count": 140,
   "id": "b8a89c83",
   "metadata": {},
   "outputs": [],
   "source": [
    "y = label_encoder.fit_transform(y)"
   ]
  },
  {
   "cell_type": "markdown",
   "id": "e18e649d",
   "metadata": {},
   "source": [
    "#### Applying standard scalar method to X"
   ]
  },
  {
   "cell_type": "code",
   "execution_count": 141,
   "id": "4b4b21a0",
   "metadata": {},
   "outputs": [],
   "source": [
    "scalar = preprocessing.StandardScaler()"
   ]
  },
  {
   "cell_type": "code",
   "execution_count": 142,
   "id": "0d44fb85",
   "metadata": {},
   "outputs": [],
   "source": [
    "X = scalar.fit_transform(X)"
   ]
  },
  {
   "cell_type": "markdown",
   "id": "259360fc",
   "metadata": {},
   "source": [
    "## 3. Classification Models"
   ]
  },
  {
   "cell_type": "code",
   "execution_count": 143,
   "id": "68890187",
   "metadata": {},
   "outputs": [],
   "source": [
    "X_train, X_test, y_train, y_test = train_test_split(X, y, random_state=42, test_size=0.2)"
   ]
  },
  {
   "cell_type": "markdown",
   "id": "62d581e3",
   "metadata": {},
   "source": [
    "### a. Logistic Regression"
   ]
  },
  {
   "cell_type": "code",
   "execution_count": 144,
   "id": "30fef405",
   "metadata": {},
   "outputs": [],
   "source": [
    "logit_regrsn = LogisticRegression()\n",
    "model = logit_regrsn.fit(X_train, y_train)"
   ]
  },
  {
   "cell_type": "code",
   "execution_count": 145,
   "id": "fd806ebe",
   "metadata": {},
   "outputs": [],
   "source": [
    "predictions = model.predict(X_test)"
   ]
  },
  {
   "cell_type": "code",
   "execution_count": 146,
   "id": "bac3ab5c",
   "metadata": {},
   "outputs": [
    {
     "name": "stdout",
     "output_type": "stream",
     "text": [
      "Accuracy score is:  0.967\n"
     ]
    }
   ],
   "source": [
    "print(\"Accuracy score is: \", round(accuracy_score(y_test, predictions), 3))"
   ]
  },
  {
   "cell_type": "code",
   "execution_count": 147,
   "id": "9953d954",
   "metadata": {},
   "outputs": [
    {
     "data": {
      "text/plain": [
       "array([[10,  0,  0],\n",
       "       [ 0,  8,  1],\n",
       "       [ 0,  0, 11]], dtype=int64)"
      ]
     },
     "execution_count": 147,
     "metadata": {},
     "output_type": "execute_result"
    }
   ],
   "source": [
    "confusion_matrix(y_test, predictions)"
   ]
  },
  {
   "cell_type": "code",
   "execution_count": 148,
   "id": "f003b31c",
   "metadata": {},
   "outputs": [
    {
     "data": {
      "text/plain": [
       "array(['Iris-virginica'], dtype=object)"
      ]
     },
     "execution_count": 148,
     "metadata": {},
     "output_type": "execute_result"
    }
   ],
   "source": [
    "label_encoder.inverse_transform(model.predict([[6, 3, 5, 2]]))"
   ]
  },
  {
   "cell_type": "markdown",
   "id": "b640eb51",
   "metadata": {},
   "source": [
    "- We get an accuracy score of 96.67% and the confusion matrix shows only one misclassification."
   ]
  },
  {
   "cell_type": "markdown",
   "id": "9367043e",
   "metadata": {},
   "source": [
    "#### Cross validation"
   ]
  },
  {
   "cell_type": "code",
   "execution_count": 149,
   "id": "0d5117a8",
   "metadata": {},
   "outputs": [
    {
     "name": "stdout",
     "output_type": "stream",
     "text": [
      "[1.         1.         1.         1.         0.93333333 0.93333333\n",
      " 0.8        1.         1.         1.        ]\n"
     ]
    }
   ],
   "source": [
    "scores = cross_val_score(logit_regrsn, X,y, scoring=\"accuracy\", cv=10)\n",
    "print(scores)"
   ]
  },
  {
   "cell_type": "code",
   "execution_count": 150,
   "id": "b3cba5fe",
   "metadata": {},
   "outputs": [
    {
     "name": "stdout",
     "output_type": "stream",
     "text": [
      "Accuracy 96.67  Standard dev 6.15\n"
     ]
    }
   ],
   "source": [
    "print(f\"Accuracy {np.round( scores.mean()*100,2)}  Standard dev {np.round( scores.std()*100,2)}\")"
   ]
  },
  {
   "cell_type": "markdown",
   "id": "974cbb0d",
   "metadata": {},
   "source": [
    "**After 10 fold cross validation, the logistic regression model has 96.67% accuracy with a standard deviation of 6.15%**"
   ]
  },
  {
   "cell_type": "markdown",
   "id": "59e66bdc",
   "metadata": {},
   "source": [
    "### b. KNN Classification"
   ]
  },
  {
   "cell_type": "code",
   "execution_count": 151,
   "id": "8a53e321",
   "metadata": {},
   "outputs": [],
   "source": [
    "accu_values = []\n",
    "neighbors = np.arange(3, 15)\n",
    "\n",
    "for k in neighbors:\n",
    "    classifier = KNeighborsClassifier(n_neighbors=k, metric='minkowski')\n",
    "    classifier.fit(X_train, y_train)\n",
    "    y_pred = classifier.predict(X_test)\n",
    "    acc_score = accuracy_score(y_test, y_pred)\n",
    "    accu_values.append(acc_score)"
   ]
  },
  {
   "cell_type": "code",
   "execution_count": 152,
   "id": "9c662aee",
   "metadata": {},
   "outputs": [
    {
     "name": "stdout",
     "output_type": "stream",
     "text": [
      "[1.0, 1.0, 0.9666666666666667, 1.0, 0.9666666666666667, 1.0, 1.0, 1.0, 1.0, 1.0, 1.0, 1.0]\n"
     ]
    }
   ],
   "source": [
    "print(accu_values)"
   ]
  },
  {
   "cell_type": "code",
   "execution_count": 154,
   "id": "e31bb5c0",
   "metadata": {},
   "outputs": [
    {
     "data": {
      "image/png": "[encoded data removed]",
      "text/plain": [
       "<Figure size 500x300 with 1 Axes>"
      ]
     },
     "metadata": {},
     "output_type": "display_data"
    }
   ],
   "source": [
    "plt.figure(figsize = (5, 3))\n",
    "plt.plot(neighbors, accu_values, 'o-')\n",
    "plt.xlabel('K-Values')\n",
    "plt.ylabel('Accuracy scores')\n",
    "plt.show()"
   ]
  },
  {
   "cell_type": "markdown",
   "id": "2bccb673",
   "metadata": {},
   "source": [
    "- From the plot, K-value of 8 and above gives consistent good predictions"
   ]
  },
  {
   "cell_type": "code",
   "execution_count": 155,
   "id": "5b297526",
   "metadata": {},
   "outputs": [
    {
     "name": "stdout",
     "output_type": "stream",
     "text": [
      "100.0 %\n"
     ]
    }
   ],
   "source": [
    "classifier = KNeighborsClassifier(n_neighbors=8, metric='minkowski')\n",
    "classifier.fit(X_train, y_train)\n",
    "y_pred = classifier.predict(X_test)\n",
    "acc_score = accuracy_score(y_test, y_pred)\n",
    "print(acc_score * 100, '%')"
   ]
  },
  {
   "cell_type": "markdown",
   "id": "8d3d011a",
   "metadata": {},
   "source": [
    "#### Cross validation"
   ]
  },
  {
   "cell_type": "code",
   "execution_count": 156,
   "id": "4b248bff",
   "metadata": {},
   "outputs": [
    {
     "name": "stdout",
     "output_type": "stream",
     "text": [
      "[1.         0.93333333 1.         0.93333333 1.         1.\n",
      " 0.93333333 0.93333333 1.         0.93333333]\n"
     ]
    }
   ],
   "source": [
    "scores = cross_val_score(classifier, X,y, scoring=\"accuracy\", cv=10)\n",
    "print(scores)"
   ]
  },
  {
   "cell_type": "code",
   "execution_count": 157,
   "id": "6b8f0eb0",
   "metadata": {},
   "outputs": [
    {
     "name": "stdout",
     "output_type": "stream",
     "text": [
      "Accuracy 96.67  Standard dev 3.33\n"
     ]
    }
   ],
   "source": [
    "print(f\"Accuracy {np.round( scores.mean()*100,2)}  Standard dev {np.round( scores.std()*100,2)}\")"
   ]
  },
  {
   "cell_type": "markdown",
   "id": "97c9deca",
   "metadata": {},
   "source": [
    "**After 10 fold cross validation, the KNN model has 96.67% accuracy with a standard deviation of 3.33%**"
   ]
  },
  {
   "cell_type": "markdown",
   "id": "2dccfee4",
   "metadata": {},
   "source": [
    "### c. Support vector machine"
   ]
  },
  {
   "cell_type": "code",
   "execution_count": 158,
   "id": "d9e0393a",
   "metadata": {},
   "outputs": [],
   "source": [
    "supp_vector = SVC(kernel='linear')\n",
    "svm_model = supp_vector.fit(X_train, y_train)\n",
    "svm_predictions = svm_model.predict(X_test)"
   ]
  },
  {
   "cell_type": "code",
   "execution_count": 159,
   "id": "21e314f6",
   "metadata": {},
   "outputs": [
    {
     "data": {
      "text/plain": [
       "0.9666666666666667"
      ]
     },
     "execution_count": 159,
     "metadata": {},
     "output_type": "execute_result"
    }
   ],
   "source": [
    "accuracy_score(y_test, svm_predictions)"
   ]
  },
  {
   "cell_type": "code",
   "execution_count": 160,
   "id": "5bac6d63",
   "metadata": {},
   "outputs": [],
   "source": [
    "supp_vector = SVC(kernel='poly', degree=3)\n",
    "svm_model = supp_vector.fit(X_train, y_train)\n",
    "svm_predictions = svm_model.predict(X_test)"
   ]
  },
  {
   "cell_type": "code",
   "execution_count": 161,
   "id": "341dca47",
   "metadata": {},
   "outputs": [
    {
     "data": {
      "text/plain": [
       "0.9333333333333333"
      ]
     },
     "execution_count": 161,
     "metadata": {},
     "output_type": "execute_result"
    }
   ],
   "source": [
    "accuracy_score(y_test, svm_predictions)"
   ]
  },
  {
   "cell_type": "code",
   "execution_count": 162,
   "id": "de2dcf80",
   "metadata": {},
   "outputs": [],
   "source": [
    "supp_vector = SVC(kernel='rbf')\n",
    "svm_model = supp_vector.fit(X_train, y_train)\n",
    "svm_predictions = svm_model.predict(X_test)"
   ]
  },
  {
   "cell_type": "code",
   "execution_count": 163,
   "id": "d3565a6c",
   "metadata": {},
   "outputs": [
    {
     "data": {
      "text/plain": [
       "0.9666666666666667"
      ]
     },
     "execution_count": 163,
     "metadata": {},
     "output_type": "execute_result"
    }
   ],
   "source": [
    "accuracy_score(y_test, svm_predictions)"
   ]
  },
  {
   "cell_type": "markdown",
   "id": "a52f04a6",
   "metadata": {},
   "source": [
    "- Radial bias fucnction kernel and linear kernel gives highest accuracy"
   ]
  },
  {
   "cell_type": "markdown",
   "id": "3f70a357",
   "metadata": {},
   "source": [
    "#### Cross validation"
   ]
  },
  {
   "cell_type": "code",
   "execution_count": 164,
   "id": "4d128364",
   "metadata": {},
   "outputs": [
    {
     "name": "stdout",
     "output_type": "stream",
     "text": [
      "[1.         0.93333333 1.         0.93333333 1.         0.93333333\n",
      " 0.86666667 1.         1.         1.        ]\n"
     ]
    }
   ],
   "source": [
    "scores = cross_val_score(supp_vector, X,y, scoring=\"accuracy\", cv=10)\n",
    "print(scores)"
   ]
  },
  {
   "cell_type": "code",
   "execution_count": 165,
   "id": "1cf730c3",
   "metadata": {},
   "outputs": [
    {
     "name": "stdout",
     "output_type": "stream",
     "text": [
      "Accuracy 96.67  Standard dev 4.47\n"
     ]
    }
   ],
   "source": [
    "print(f\"Accuracy {np.round( scores.mean()*100,2)}  Standard dev {np.round( scores.std()*100,2)}\")"
   ]
  },
  {
   "cell_type": "markdown",
   "id": "dcba3ff6",
   "metadata": {},
   "source": [
    "**After 10 fold cross validation, the SVM model using rbf kernel has 96.67% accuracy with a standard deviation of 4.47%**"
   ]
  },
  {
   "cell_type": "markdown",
   "id": "80be5253",
   "metadata": {},
   "source": [
    "### d. Decision Tree Classifier"
   ]
  },
  {
   "cell_type": "code",
   "execution_count": 166,
   "id": "23f2b907",
   "metadata": {},
   "outputs": [],
   "source": [
    "dt_classifier = DecisionTreeClassifier()\n",
    "dt_model = dt_classifier.fit(X_train, y_train)\n",
    "dt_predict = dt_classifier.predict(X_test)"
   ]
  },
  {
   "cell_type": "code",
   "execution_count": 167,
   "id": "90fdedcc",
   "metadata": {},
   "outputs": [
    {
     "data": {
      "text/plain": [
       "1.0"
      ]
     },
     "execution_count": 167,
     "metadata": {},
     "output_type": "execute_result"
    }
   ],
   "source": [
    "accuracy_score(dt_predict, y_test)"
   ]
  },
  {
   "cell_type": "code",
   "execution_count": 168,
   "id": "b41d39d4",
   "metadata": {},
   "outputs": [
    {
     "name": "stdout",
     "output_type": "stream",
     "text": [
      "[1.         0.93333333 1.         0.93333333 0.93333333 0.86666667\n",
      " 0.93333333 1.         1.         1.        ]\n"
     ]
    }
   ],
   "source": [
    "scores = cross_val_score(dt_classifier, X,y, scoring=\"accuracy\", cv=10)\n",
    "print(scores)"
   ]
  },
  {
   "cell_type": "code",
   "execution_count": 169,
   "id": "eeb58b6a",
   "metadata": {},
   "outputs": [
    {
     "name": "stdout",
     "output_type": "stream",
     "text": [
      "Accuracy 96.0  Standard dev 4.42\n"
     ]
    }
   ],
   "source": [
    "print(f\"Accuracy {np.round( scores.mean()*100,2)}  Standard dev {np.round( scores.std()*100,2)}\")"
   ]
  },
  {
   "cell_type": "markdown",
   "id": "98fbbdd6",
   "metadata": {},
   "source": [
    "**After 10 fold cross validation, the decision tree model using default parameters has 96.0% accuracy with a standard deviation of 4.42%**"
   ]
  },
  {
   "cell_type": "markdown",
   "id": "51eade2c",
   "metadata": {},
   "source": [
    "### e. Random Forest Classifier"
   ]
  },
  {
   "cell_type": "code",
   "execution_count": 170,
   "id": "50c08bca",
   "metadata": {},
   "outputs": [],
   "source": [
    "rf = RandomForestClassifier()\n",
    "rf_model = rf.fit(X_train, y_train)\n",
    "rf_predict = rf_model.predict(X_test)"
   ]
  },
  {
   "cell_type": "code",
   "execution_count": 171,
   "id": "f7d48683",
   "metadata": {},
   "outputs": [
    {
     "data": {
      "text/plain": [
       "1.0"
      ]
     },
     "execution_count": 171,
     "metadata": {},
     "output_type": "execute_result"
    }
   ],
   "source": [
    "accuracy_score(rf_predict, y_test)"
   ]
  },
  {
   "cell_type": "code",
   "execution_count": 172,
   "id": "6f0334d3",
   "metadata": {},
   "outputs": [
    {
     "data": {
      "text/plain": [
       "1.0"
      ]
     },
     "execution_count": 172,
     "metadata": {},
     "output_type": "execute_result"
    }
   ],
   "source": [
    "f1_score(rf_predict, y_test, average='micro')"
   ]
  },
  {
   "cell_type": "markdown",
   "id": "0920c3c2",
   "metadata": {},
   "source": [
    "#### Feature Importance"
   ]
  },
  {
   "cell_type": "code",
   "execution_count": 173,
   "id": "8a6cf486",
   "metadata": {},
   "outputs": [
    {
     "data": {
      "text/plain": [
       "PL    44.270725\n",
       "PW    40.011374\n",
       "SL    12.491634\n",
       "SW     3.226267\n",
       "dtype: float64"
      ]
     },
     "execution_count": 173,
     "metadata": {},
     "output_type": "execute_result"
    }
   ],
   "source": [
    "x_df = df.drop('Classification', axis = 1)\n",
    "pd.Series(rf_model.feature_importances_, index=x_df.columns).sort_values(ascending=False) * 100"
   ]
  },
  {
   "cell_type": "markdown",
   "id": "ec723ca5",
   "metadata": {},
   "source": [
    "#### Hyperparameter tuning"
   ]
  },
  {
   "cell_type": "markdown",
   "id": "7d6c19aa",
   "metadata": {},
   "source": [
    "Using grid search method"
   ]
  },
  {
   "cell_type": "code",
   "execution_count": 174,
   "id": "541d12f9",
   "metadata": {},
   "outputs": [],
   "source": [
    "parameters ={'max_depth': [10, 20, 30],\n",
    "'criterion' : ['gini', 'entropy'],\n",
    "'min_samples_split': [2,5,10],\n",
    "'n_estimators': [100,200,400]}"
   ]
  },
  {
   "cell_type": "code",
   "execution_count": 175,
   "id": "0cc46790",
   "metadata": {},
   "outputs": [
    {
     "data": {
      "text/plain": [
       "54"
      ]
     },
     "execution_count": 175,
     "metadata": {},
     "output_type": "execute_result"
    }
   ],
   "source": [
    "param_size = ParameterGrid(parameters)\n",
    "len(param_size)"
   ]
  },
  {
   "cell_type": "code",
   "execution_count": 176,
   "id": "5a24ded4",
   "metadata": {},
   "outputs": [
    {
     "name": "stdout",
     "output_type": "stream",
     "text": [
      "\n",
      "Best Params:  {'criterion': 'entropy', 'max_depth': 30, 'min_samples_split': 5, 'n_estimators': 100}\n",
      "\n",
      "Best Score:  0.9666666666666666\n"
     ]
    }
   ],
   "source": [
    "grid_search = RandomForestClassifier()\n",
    "grid_search = GridSearchCV(grid_search, parameters, cv=5, scoring='accuracy',n_jobs=-1)\n",
    "grid_result = grid_search.fit(X_train, y_train)\n",
    "print('\\nBest Params: ', grid_result.best_params_)\n",
    "print('\\nBest Score: ', grid_result.best_score_)"
   ]
  },
  {
   "cell_type": "markdown",
   "id": "4ec1f034",
   "metadata": {},
   "source": [
    "**After hyperparameter tuning and CV, the random forest model has 96.67% accuracy.**"
   ]
  },
  {
   "cell_type": "markdown",
   "id": "62304928",
   "metadata": {},
   "source": [
    "### Conclusion:\n",
    "- After exhaustive testing and cross validations, The K-Nearest Neighbor with 96.67% accuracy and 3.33% standard deviation appears to be the best model for the given dataset"
   ]
  },
  {
   "cell_type": "markdown",
   "id": "f311cffc",
   "metadata": {},
   "source": []
  }
 ],
 "metadata": {
  "kernelspec": {
   "display_name": "Python 3",
   "language": "python",
   "name": "python3"
  },
  "language_info": {
   "codemirror_mode": {
    "name": "ipython",
    "version": 3
   },
   "file_extension": ".py",
   "mimetype": "text/x-python",
   "name": "python",
   "nbconvert_exporter": "python",
   "pygments_lexer": "ipython3",
   "version": "3.8.8"
  }
 },
 "nbformat": 4,
 "nbformat_minor": 5
}
